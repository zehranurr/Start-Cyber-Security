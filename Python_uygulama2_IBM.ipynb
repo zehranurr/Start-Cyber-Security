{
 "cells": [
  {
   "cell_type": "markdown",
   "metadata": {},
   "source": [
    "- Noktaların Tanımlanması:\n",
    "- Identifying Points:"
   ]
  },
  {
   "cell_type": "code",
   "execution_count": null,
   "metadata": {},
   "outputs": [],
   "source": [
    "points =[]"
   ]
  },
  {
   "cell_type": "markdown",
   "metadata": {},
   "source": [
    "- Öklid Mesafesi İçin Bir Fonksiyon Yazma:\n",
    "- Writing a Function for Euclidean Distance:"
   ]
  },
  {
   "cell_type": "code",
   "execution_count": 11,
   "metadata": {},
   "outputs": [],
   "source": [
    "import math\n",
    "distance_list=[]\n",
    "points =[]\n",
    "\n",
    "def euclideanDistance(point1, point2):\n",
    "\n",
    "    x1, y1 = point1\n",
    "    x2, y2 = point2\n",
    "\n",
    "    distance = math.sqrt((x2 - x1) ** 2 + (y2 - y1) ** 2)\n",
    "    points.append(point1)\n",
    "    points.append(point2)\n",
    "    distance_list.append(distance)\n",
    "    \n",
    "    return distance"
   ]
  },
  {
   "cell_type": "code",
   "execution_count": 27,
   "metadata": {},
   "outputs": [],
   "source": [
    "#Find min\n",
    "def find_min_distance(distance_list):\n",
    "    \n",
    "    if not distance_list:\n",
    "        return None\n",
    "    \n",
    "   \n",
    "    min_distance = distance_list[0]\n",
    "    \n",
    "  \n",
    "    for distance in distance_list[1:]:\n",
    "        if distance < min_distance:\n",
    "            min_distance = distance\n",
    "    \n",
    "    return min_distance    \n",
    "    "
   ]
  },
  {
   "cell_type": "code",
   "execution_count": 29,
   "metadata": {},
   "outputs": [
    {
     "data": {
      "text/plain": [
       "4.123105625617661"
      ]
     },
     "execution_count": 29,
     "metadata": {},
     "output_type": "execute_result"
    }
   ],
   "source": [
    "point1=(6,3)\n",
    "point2=(10,4)\n",
    "\n",
    "euclideanDistance(point1,point2)"
   ]
  },
  {
   "cell_type": "code",
   "execution_count": 30,
   "metadata": {},
   "outputs": [
    {
     "data": {
      "text/plain": [
       "1.0"
      ]
     },
     "execution_count": 30,
     "metadata": {},
     "output_type": "execute_result"
    }
   ],
   "source": [
    "point1=(10,3)\n",
    "point2=(10,4)\n",
    "euclideanDistance(point1,point2)"
   ]
  },
  {
   "cell_type": "code",
   "execution_count": 31,
   "metadata": {},
   "outputs": [
    {
     "data": {
      "text/plain": [
       "15.811388300841896"
      ]
     },
     "execution_count": 31,
     "metadata": {},
     "output_type": "execute_result"
    }
   ],
   "source": [
    "point1=(1,17)\n",
    "point2=(10,4)\n",
    "euclideanDistance(point1,point2)"
   ]
  },
  {
   "cell_type": "code",
   "execution_count": 32,
   "metadata": {},
   "outputs": [
    {
     "name": "stdout",
     "output_type": "stream",
     "text": [
      "[(6, 3), (10, 4), (10, 3), (10, 4), (1, 17), (10, 4), (6, 3), (10, 4), (10, 3), (10, 4), (1, 17), (10, 4)]\n",
      "[4.123105625617661, 1.0, 15.811388300841896, 4.123105625617661, 1.0, 15.811388300841896]\n"
     ]
    }
   ],
   "source": [
    "print(points)\n",
    "print(distance_list)"
   ]
  },
  {
   "cell_type": "code",
   "execution_count": 33,
   "metadata": {},
   "outputs": [
    {
     "data": {
      "text/plain": [
       "1.0"
      ]
     },
     "execution_count": 33,
     "metadata": {},
     "output_type": "execute_result"
    }
   ],
   "source": [
    "find_min_distance(distance_list)\n",
    "    "
   ]
  }
 ],
 "metadata": {
  "kernelspec": {
   "display_name": "Python 3",
   "language": "python",
   "name": "python3"
  },
  "language_info": {
   "codemirror_mode": {
    "name": "ipython",
    "version": 3
   },
   "file_extension": ".py",
   "mimetype": "text/x-python",
   "name": "python",
   "nbconvert_exporter": "python",
   "pygments_lexer": "ipython3",
   "version": "3.11.4"
  }
 },
 "nbformat": 4,
 "nbformat_minor": 2
}
